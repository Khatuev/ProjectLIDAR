{
 "cells": [
  {
   "cell_type": "code",
   "execution_count": null,
   "metadata": {},
   "outputs": [],
   "source": [
    "# Standard library imports\n",
    "import pandas as pd\n",
    "import numpy as np\n",
    "import matplotlib.pyplot as plt\n",
    "\n",
    "# Geospatial data processing\n",
    "import geopandas as gpd\n",
    "\n",
    "# 3D and scientific computing\n",
    "from scipy.spatial import KDTree\n",
    "from shapely.geometry import Point, box\n",
    "import statsmodels.api as sm\n",
    "\n",
    "\n",
    "# Image processing\n",
    "from sklearn.metrics import mean_squared_error, r2_score\n",
    "\n",
    "from sklearn.neighbors import NearestNeighbors\n",
    "\n",
    "\n",
    "\n",
    "from lidar.extraction import LASProcessor, CanopyHeightModel, TreeHeightCalculator, CrownRadiusCalculator\n",
    "# Display settings\n",
    "%matplotlib inline"
   ]
  },
  {
   "cell_type": "code",
   "execution_count": null,
   "metadata": {},
   "outputs": [],
   "source": [
    "processor = LASProcessor(\"./test_data/LIDAR.las\")\n",
    "processor.process()"
   ]
  },
  {
   "cell_type": "code",
   "execution_count": null,
   "metadata": {},
   "outputs": [],
   "source": [
    "chm = CanopyHeightModel(processor)\n",
    "chm.process()"
   ]
  },
  {
   "cell_type": "code",
   "execution_count": null,
   "metadata": {},
   "outputs": [],
   "source": [
    "# Load and preprocess reference data\n",
    "data = gpd.read_file('./test_data/Reference.shp')\n",
    "reference_points = np.array([(geom.x, geom.y) for geom in data.geometry])\n",
    "reference_heights = data['HRef'].to_numpy()"
   ]
  },
  {
   "cell_type": "code",
   "execution_count": null,
   "metadata": {},
   "outputs": [],
   "source": [
    "# Load detected points and heights\n",
    "detected_tree_tops = chm.get_tree_top_coordinates()  # Replace with the actual method\n",
    "detected_coords = np.array(detected_tree_tops)\n",
    "tree_heights = TreeHeightCalculator(processor).calculate_tree_heights(detected_coords)\n",
    "detected_heights = np.array(tree_heights)"
   ]
  },
  {
   "cell_type": "code",
   "execution_count": null,
   "metadata": {},
   "outputs": [],
   "source": [
    "# Sort detected and reference data by heights\n",
    "sorted_ref_indices = np.argsort(reference_heights)\n",
    "sorted_det_indices = np.argsort(detected_heights)\n",
    "\n",
    "sorted_reference_points = reference_points[sorted_ref_indices]\n",
    "sorted_reference_heights = reference_heights[sorted_ref_indices]\n",
    "\n",
    "sorted_detected_coords = detected_coords[sorted_det_indices]\n",
    "sorted_detected_heights = detected_heights[sorted_det_indices]\n",
    "\n",
    "# Align detected coordinates to reference points\n",
    "adjusted_coords = sorted_reference_points\n",
    "adjusted_heights = sorted_reference_heights\n",
    "\n",
    "# Create a GeoDataFrame for adjusted detected points\n",
    "adjusted_detected_gdf = gpd.GeoDataFrame({\n",
    "    'HRef': sorted_detected_heights,\n",
    "    'geometry': [Point(coord) for coord in adjusted_coords]\n",
    "}, geometry='geometry')"
   ]
  },
  {
   "cell_type": "code",
   "execution_count": null,
   "metadata": {},
   "outputs": [],
   "source": [
    "# Calculate errors and metrics\n",
    "errors = sorted_detected_heights - adjusted_heights\n",
    "mae = np.mean(np.abs(errors))\n",
    "rmse = np.sqrt(mean_squared_error(adjusted_heights, sorted_detected_heights))\n",
    "mape = np.mean(np.abs(errors / adjusted_heights)) * 100\n",
    "r2 = r2_score(adjusted_heights, sorted_detected_heights)\n",
    "bias = np.mean(errors)\n",
    "si = rmse / np.mean(adjusted_heights)\n",
    "pearson_corr = np.corrcoef(adjusted_heights, sorted_detected_heights)[0, 1]\n",
    "\n",
    "# Print performance metrics\n",
    "print(f\"Mean Absolute Error (MAE): {mae:.2f} meters\")\n",
    "print(f\"Root Mean Squared Error (RMSE): {rmse:.2f} meters\")\n",
    "print(f\"Mean Absolute Percentage Error (MAPE): {mape:.2f}%\")\n",
    "print(f\"Coefficient of Determination (R²): {r2:.2f}\")\n",
    "print(f\"Bias (Mean Error): {bias:.2f} meters\")\n",
    "print(f\"Scatter Index (SI): {si:.2f}\")\n",
    "print(f\"Pearson Correlation Coefficient: {pearson_corr:.2f}\")"
   ]
  },
  {
   "cell_type": "code",
   "execution_count": null,
   "metadata": {},
   "outputs": [],
   "source": [
    "# Regression Analysis without Outliers\n",
    "Q1, Q3 = np.percentile(errors, [25, 75])\n",
    "IQR = Q3 - Q1\n",
    "threshold = 1.5 * IQR\n",
    "filtered_indices = (errors >= Q1 - threshold) & (errors <= Q3 + threshold)\n",
    "\n",
    "filtered_ref_heights = adjusted_heights[filtered_indices]\n",
    "filtered_detected_heights = sorted_detected_heights[filtered_indices]\n",
    "filtered_errors = errors[filtered_indices]\n",
    "\n",
    "X_filtered = sm.add_constant(filtered_ref_heights)\n",
    "model_filtered = sm.OLS(filtered_detected_heights, X_filtered).fit()\n",
    "print(model_filtered.summary())\n",
    "\n",
    "# Plot Regression\n",
    "plt.figure(figsize=(10, 6))\n",
    "plt.scatter(filtered_ref_heights, filtered_detected_heights, alpha=0.5)\n",
    "plt.plot(filtered_ref_heights, model_filtered.predict(X_filtered), 'r--', label='Regression Line')\n",
    "plt.xlabel('Reference Heights (m)')\n",
    "plt.ylabel('Detected Heights (m)')\n",
    "plt.title('Regression Analysis (Filtered)')\n",
    "plt.legend()\n",
    "plt.show()\n",
    "\n",
    "# Plot Error Distribution\n",
    "plt.figure(figsize=(10, 6))\n",
    "plt.hist(filtered_errors, bins=20, color='blue', edgecolor='black')\n",
    "plt.title('Error Distribution (Filtered)')\n",
    "plt.xlabel('Error (m)')\n",
    "plt.ylabel('Frequency')\n",
    "plt.show()"
   ]
  },
  {
   "cell_type": "code",
   "execution_count": null,
   "metadata": {},
   "outputs": [],
   "source": [
    "# Error Analysis by Height Ranges\n",
    "height_ranges = [(0, 5), (5, 10), (10, 15), (15, 20), (20, 25), (25, 30)]\n",
    "range_labels = ['0-5m', '5-10m', '10-15m', '15-20m', '20-25m', '25-30m']\n",
    "filtered_errors_by_range = {label: [] for label in range_labels}\n",
    "\n",
    "for ref_height, error in zip(filtered_ref_heights, filtered_errors):\n",
    "    for (low, high), label in zip(height_ranges, range_labels):\n",
    "        if low <= ref_height < high:\n",
    "            filtered_errors_by_range[label].append(error)\n",
    "\n",
    "plt.figure(figsize=(12, 8))\n",
    "plt.boxplot([filtered_errors_by_range[label] for label in range_labels], labels=range_labels)\n",
    "plt.title('Error Distribution by Height Range (Filtered)')\n",
    "plt.xlabel('Height Range (m)')\n",
    "plt.ylabel('Error (m)')\n",
    "plt.show()\n"
   ]
  },
  {
   "cell_type": "code",
   "execution_count": null,
   "metadata": {},
   "outputs": [],
   "source": [
    "# Plot CDF of Errors\n",
    "sorted_errors = np.sort(filtered_errors)\n",
    "cdf = np.arange(1, len(sorted_errors) + 1) / len(sorted_errors)\n",
    "\n",
    "plt.figure(figsize=(10, 6))\n",
    "plt.plot(sorted_errors, cdf, marker='.', linestyle='none')\n",
    "plt.xlabel('Error (m)')\n",
    "plt.ylabel('Cumulative Probability')\n",
    "plt.title('Cumulative Distribution Function (CDF) of Errors')\n",
    "plt.grid(True)\n",
    "plt.show()"
   ]
  },
  {
   "cell_type": "code",
   "execution_count": null,
   "metadata": {},
   "outputs": [],
   "source": []
  }
 ],
 "metadata": {
  "kernelspec": {
   "display_name": "env",
   "language": "python",
   "name": "python3"
  },
  "language_info": {
   "codemirror_mode": {
    "name": "ipython",
    "version": 3
   },
   "file_extension": ".py",
   "mimetype": "text/x-python",
   "name": "python",
   "nbconvert_exporter": "python",
   "pygments_lexer": "ipython3",
   "version": "3.10.13"
  }
 },
 "nbformat": 4,
 "nbformat_minor": 2
}
